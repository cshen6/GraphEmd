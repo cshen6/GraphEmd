{
 "cells": [
  {
   "cell_type": "code",
   "execution_count": 17,
   "metadata": {},
   "outputs": [],
   "source": [
    "import numpy as np\n",
    "import pandas as pd\n",
    "import random\n",
    "import time\n",
    "from sklearn.model_selection import RepeatedKFold\n",
    "from sklearn.discriminant_analysis import LinearDiscriminantAnalysis\n",
    "from scipy import linalg\n",
    "from sklearn.neural_network import MLPClassifier\n",
    "from sklearn.neighbors import KNeighborsClassifier"
   ]
  },
  {
   "cell_type": "code",
   "execution_count": 20,
   "metadata": {},
   "outputs": [],
   "source": [
    "def EncoderLDA(A):\n",
    "    begin1 = time.time()\n",
    "    U, s, VT = np.linalg.svd(A)\n",
    "    end1 = time.time()\n",
    "    newx=([])\n",
    "    dmax=50\n",
    "    tmp = np.zeros([dmax,1])\n",
    "#Split Data\n",
    "    rkf = RepeatedKFold(n_splits=5, n_repeats=10, random_state=5)\n",
    "    for train_index, test_index in rkf.split(A):\n",
    "         #print(\"TRAIN:\", train_index, \"TEST:\", test_index)\n",
    "         X_train, X_test = A[train_index], A[test_index]\n",
    "         y_train, y_test = y[train_index], y[test_index]\n",
    "         X1 = X_train.transpose()\n",
    "         X_train, X_test = X1[train_index], X1[test_index]\n",
    "            \n",
    "         "
   ]
  },
  {
   "cell_type": "code",
   "execution_count": null,
   "metadata": {},
   "outputs": [],
   "source": []
  }
 ],
 "metadata": {
  "kernelspec": {
   "display_name": "Python 3",
   "language": "python",
   "name": "python3"
  },
  "language_info": {
   "codemirror_mode": {
    "name": "ipython",
    "version": 3
   },
   "file_extension": ".py",
   "mimetype": "text/x-python",
   "name": "python",
   "nbconvert_exporter": "python",
   "pygments_lexer": "ipython3",
   "version": "3.8.5"
  }
 },
 "nbformat": 4,
 "nbformat_minor": 4
}
